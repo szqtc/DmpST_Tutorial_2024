{
 "cells": [
  {
   "cell_type": "markdown",
   "id": "3422183e-ced6-430c-a583-4ee070865926",
   "metadata": {},
   "source": [
    "# Lecture 1: learn to use the binned pipeline\n",
    "\n",
    "Zhaoqiang Shen (zqshen@pmo.ac.cn) & Kaikai Duan (duankk@pmo.ac.cn)  \n",
    "2024/06/27\n",
    "\n",
    "### Available at https://github.com/szqtc/DmpST_Tutorial_2024.git"
   ]
  },
  {
   "attachments": {},
   "cell_type": "markdown",
   "id": "5ddc2f08-eb99-440b-bc78-08b9cb008f85",
   "metadata": {},
   "source": [
    "## 0. The gamma-ray sky seen by DAMPE\n",
    "\n",
    "<img src=\"images/img1.png\" width=\"700\" height=\"340\">\n",
    "\n",
    "There are lots of sources in the sky. **Astronomers are interested in the following things:**\n",
    "- the significance of the source\n",
    "- the location and spatial extention\n",
    "- the energy spectrum\n",
    "- the variability of the flux\n",
    "\n",
    "Based on these information, the nature of the sources could be deduced."
   ]
  },
  {
   "cell_type": "markdown",
   "id": "82152a28-009a-4457-8ab2-7532b0ad26b3",
   "metadata": {},
   "source": [
    "## 1. Let's recap what we learnt yesterday"
   ]
  },
  {
   "cell_type": "code",
   "execution_count": null,
   "id": "b8561f0d-d2bb-49c8-b008-a46da31ed53e",
   "metadata": {},
   "outputs": [],
   "source": [
    "%%bash\n",
    "# 0. go to the folder where the DmpST, PH file, SC file locate\n",
    "#cd /root/dampe\n",
    "\n",
    "# 1. generate the observation angle to see if the source is detectable in the given time interval\n",
    "python  DmpST/scripts/FindObservedTime.py  DAMPE_SC.fits  Vela2  C  128.84  -45.18  2016-01-01  2017-01-01\n",
    "\n",
    "# 2. see the counts map, energy distribution to grasp the idea of the data\n",
    "python  DmpST/scripts/GetInfo.py  DAMPE_PH.fits  Vela2  C  128.84  -45.18   5   0.1  CAR  3e3  3e5  10  2016-01-01  2017-01-01\n",
    "\n",
    "# 3. generate the live time cube for the given data set (13 mins for ord 5, 4 mins for ord 4)\n",
    "python DmpST/scripts/Dmpltcube.py  DAMPE_SC.fits  Vela2/events.fits  Vela2/ltcube.fits  --nthreads 2  -ord 5\n",
    "#python  DmpST/scripts/Dmpltcube.py  DAMPE_SC.fits  Vela2/events.fits  Vela2/ltcube.fits -ord 5\n",
    "\n",
    "# 4. fit the data with the model\n",
    "cp  Vela_input.yaml  Vela2/\n",
    "python  DmpST/scripts/BinnedPipeline.py  Vela2/events.fits  DAMPE_SC.fits  Vela2/ltcube.fits   Vela2   Vela   C   128.84  -45.18 \\\n",
    "7   5   0.1  CAR  3e3  3e5  10  2016-01-01  2017-01-01   --irf DmpST/DmpIRFs/"
   ]
  },
  {
   "cell_type": "markdown",
   "id": "599b1a90-08fe-4c72-9529-e54a5f21b9da",
   "metadata": {},
   "source": [
    "### 1) some of the figures"
   ]
  },
  {
   "cell_type": "code",
   "execution_count": 27,
   "id": "a6c1d1b3-4310-46a3-a5b5-454aa54ae9b4",
   "metadata": {},
   "outputs": [
    {
     "data": {
      "text/html": [
       "\n",
       "<!-- The boresight of the instrument w.r.t. the source. Time intervals w/ angle larger than 60deg can not see the source -->\n",
       "<img src=\"Vela2/ObservedTime.pdf\" width=\"500\" height=\"340\">\n",
       "\n",
       "<!-- The photon distribution around the center source -->\n",
       "<img src=\"Vela2/cmap.pdf\" width=\"500\" height=\"340\">\n"
      ],
      "text/plain": [
       "<IPython.core.display.HTML object>"
      ]
     },
     "metadata": {},
     "output_type": "display_data"
    }
   ],
   "source": [
    "%%html\n",
    "\n",
    "<!-- The boresight of the instrument w.r.t. the source. Time intervals w/ angle larger than 60deg can not see the source -->\n",
    "<img src=\"Vela2/ObservedTime.pdf\" width=\"500\" height=\"340\">\n",
    "\n",
    "<!-- The photon distribution around the center source -->\n",
    "<img src=\"Vela2/cmap.pdf\" width=\"500\" height=\"340\">"
   ]
  },
  {
   "attachments": {},
   "cell_type": "markdown",
   "id": "b2db4928-43b3-48b4-89b6-f400562a050a",
   "metadata": {},
   "source": [
    "### 2) significance\n",
    "\n",
    "<img src=\"images/img2.png\" width=\"1000\" height=\"340\">"
   ]
  },
  {
   "cell_type": "code",
   "execution_count": 29,
   "id": "c8ef92e3-ed1e-41e0-89a1-44dafb0551a9",
   "metadata": {},
   "outputs": [
    {
     "name": "stdout",
     "output_type": "stream",
     "text": [
      "LikelihoodValue: 5103.350280055192\n",
      "Vela:\n",
      "  DEC_value: '-45.18'\n",
      "  Flux_error: '8.70e-09'\n",
      "  Flux_value: '2.05e-07'\n",
      "  Index_error: '0.11'\n",
      "  Index_scale: '-1.00e+00'\n",
      "  Index_value: '3.50'\n",
      "  Integral_error: '0.87'\n",
      "  Integral_scale: '1.00e-08'\n",
      "  Integral_value: '20.54'\n",
      "  LowerLimit_value: '3000.00'\n",
      "  Npred: '607.12'\n",
      "  RA_value: '128.84'\n",
      "  TsValue: 3671.264558148021\n",
      "  UpperLimit_value: '300000.00'\n",
      "gal_diffuse_source:\n",
      "  Flux_error: '1.69e-06'\n",
      "  Flux_value: '9.91e-06'\n",
      "  Index_value: '0.00'\n",
      "  Normalization_scale: '1.00e+00'\n",
      "  Normalization_value: '1.00'\n",
      "  Npred: '268.29'\n",
      "  Prefactor_error: '0.19'\n",
      "  Prefactor_scale: '1.00e+00'\n",
      "  Prefactor_value: '1.11'\n",
      "  Scale_value: '100.00'\n",
      "  TsValue: 34.2645614800349\n",
      "iso_diffuse_source:\n",
      "  Flux_error: '6.14e-06'\n",
      "  Flux_value: '1.01e-05'\n",
      "  Index_value: '-2.40'\n",
      "  Integral_error: '4.88'\n",
      "  Integral_scale: '1.00e-07'\n",
      "  Integral_value: '8.03'\n",
      "  LowerLimit_value: '3000.00'\n",
      "  Npred: '70.63'\n",
      "  TsValue: 2.951097990897324\n",
      "  UpperLimit_value: '300000.00'\n",
      "  Value_scale: '1.00e+00'\n",
      "  Value_value: '1.00'\n"
     ]
    }
   ],
   "source": [
    "%%bash\n",
    "\n",
    "# a summary of fitted results\n",
    "cat Vela2/Vela_results_BroadBand_binned.yaml"
   ]
  },
  {
   "cell_type": "markdown",
   "id": "a167f598-2bd5-4950-981d-02ce43ec2661",
   "metadata": {},
   "source": [
    "According to the mathematical theorem (Wilks1938), **TS_value follows the $\\chi^2$ distribution,** \n",
    "whose degrees of freedom are the number of free parameters for the source."
   ]
  },
  {
   "cell_type": "code",
   "execution_count": 3,
   "id": "2cbc5e73-c576-4010-8873-4a47b136c020",
   "metadata": {},
   "outputs": [
    {
     "name": "stdout",
     "output_type": "stream",
     "text": [
      "significance is approximately 60.59 [sigma]\n"
     ]
    }
   ],
   "source": [
    "## the significance of Vela in first year\n",
    "import numpy as np\n",
    "from scipy import stats\n",
    "\n",
    "# vela pulsar\n",
    "tsval = 3671.264558148021\n",
    "print('significance is approximately {:.2f} [sigma]'.format(np.sqrt(tsval)))\n",
    "\n",
    "#pval = stats.chi2.sf(tsval, df=2)\n",
    "#print('significance is', stats.norm.isf(pval/2), '[sigma]') ## tsval is too large"
   ]
  },
  {
   "cell_type": "markdown",
   "id": "419d15ea-cb47-4411-a2a9-bafb707635a5",
   "metadata": {},
   "source": [
    "### 3) spectrum"
   ]
  },
  {
   "cell_type": "code",
   "execution_count": 30,
   "id": "c3489ba7-6b64-4aec-bc93-086c577e7a66",
   "metadata": {},
   "outputs": [
    {
     "name": "stdout",
     "output_type": "stream",
     "text": [
      "Vela:\n",
      "  name: Vela\n",
      "  spatialModel:\n",
      "    DEC:\n",
      "      free: 0\n",
      "      max: 90.0\n",
      "      min: -90.0\n",
      "      name: DEC\n",
      "      scale: 1.0\n",
      "      value: -45.18\n",
      "    RA:\n",
      "      free: 0\n",
      "      max: 360.0\n",
      "      min: -360.0\n",
      "      name: RA\n",
      "      scale: 1.0\n",
      "      value: 128.84\n",
      "    type: SkyDirFunction\n",
      "  spectrum:\n",
      "    Index:\n",
      "      error: 0.10653641090627275\n",
      "      free: '0'\n",
      "      max: 10\n",
      "      min: 0\n",
      "      name: Index\n",
      "      scale: -1\n",
      "      value: 3.4969769026822983\n",
      "    Integral:\n",
      "      error: 0.8701715824506273\n",
      "      free: true\n",
      "      max: 1e3\n",
      "      min: 1e-3\n",
      "      name: Integral\n",
      "      scale: 1e-8\n",
      "      value: 20.53782106105483\n",
      "    LowerLimit:\n",
      "      free: 0\n",
      "      max: 1e6\n",
      "      min: 3e3\n",
      "      name: LowerLimit\n",
      "      scale: 1\n",
      "      value: 3e3\n",
      "    UpperLimit:\n",
      "      free: 0\n",
      "      max: 1e6\n",
      "      min: 3e3\n",
      "      name: UpperLimit\n",
      "      scale: 1\n",
      "      value: 3e5\n",
      "    type: PowerLaw2\n",
      "  type: PointSource\n",
      "gal_diffuse_source:\n",
      "  name: gal_diffuse_source\n",
      "  spatialModel:\n",
      "    Normalization:\n",
      "      free: 0\n",
      "      max: 1e3\n",
      "      min: 1e-3\n",
      "      name: Normalization\n",
      "      scale: 1.0\n",
      "      value: 1.0\n",
      "    file: dampe_gal_diffuse_model_v2_fix.fits\n",
      "    type: MapCubeFunction\n",
      "  spectrum:\n",
      "    Index:\n",
      "      free: 0\n",
      "      max: 1\n",
      "      min: -1\n",
      "      name: Index\n",
      "      scale: 1.0\n",
      "      value: 0\n",
      "    Prefactor:\n",
      "      error: 0.19012288401347116\n",
      "      free: true\n",
      "      max: 10\n",
      "      min: 0\n",
      "      name: Prefactor\n",
      "      scale: 1\n",
      "      value: 1.1124068546788886\n",
      "    Scale:\n",
      "      free: 0\n",
      "      max: 2e2\n",
      "      min: 5e1\n",
      "      name: Scale\n",
      "      scale: 1.0\n",
      "      value: 1e2\n",
      "    type: PowerLaw\n",
      "  type: DiffuseSource\n",
      "iso_diffuse_source:\n",
      "  name: iso_diffuse_source\n",
      "  spatialModel:\n",
      "    Value:\n",
      "      free: 0\n",
      "      max: 10.0\n",
      "      min: 0.0\n",
      "      name: Value\n",
      "      scale: 1.0\n",
      "      value: 1.0\n",
      "    type: ConstantValue\n",
      "  spectrum:\n",
      "    Index:\n",
      "      free: 0\n",
      "      max: 10\n",
      "      min: 0\n",
      "      name: Index\n",
      "      scale: -1\n",
      "      value: 2.4\n",
      "    Integral:\n",
      "      error: 4.879617233486687\n",
      "      free: true\n",
      "      max: 1e3\n",
      "      min: 1e-3\n",
      "      name: Integral\n",
      "      scale: 1e-7\n",
      "      value: 8.032182555654451\n",
      "    LowerLimit:\n",
      "      free: 0\n",
      "      max: 1e6\n",
      "      min: 3e3\n",
      "      name: LowerLimit\n",
      "      scale: 1\n",
      "      value: 3e3\n",
      "    UpperLimit:\n",
      "      free: 0\n",
      "      max: 1e6\n",
      "      min: 3e3\n",
      "      name: UpperLimit\n",
      "      scale: 1\n",
      "      value: 3e5\n",
      "    type: PowerLaw2\n",
      "  type: DiffuseSource\n"
     ]
    }
   ],
   "source": [
    "%%bash\n",
    "\n",
    "# input gamma-ray model\n",
    "# cat Vela_input.yaml\n",
    "\n",
    "# fitted gamma-ray model\n",
    "cat Vela2/Vela_fitModel_BroadBand_binned.yaml"
   ]
  },
  {
   "cell_type": "markdown",
   "id": "737bc53c-ed10-4b07-95bc-bba471f17863",
   "metadata": {},
   "source": [
    "#### some spectral types\n",
    "There are lots of **spectral types**, some of which are listed below:\n",
    "- **PowerLaw**:\n",
    "\n",
    "    $ \\frac{dN}{dE} = N_0 \\left(\\frac{E}{E_0}\\right)^\\gamma $\n",
    "\n",
    "    where\n",
    "    Prefactor = $N_0$,\n",
    "    Index = $\\gamma$,\n",
    "    Scale = $E_0$.\n",
    "\n",
    "- **PowerLaw2**:\n",
    "\n",
    "    $ \\frac{dN}{dE} = \\frac{N(\\gamma+1)E^{\\gamma}} {E_{\\rm max}^{\\gamma+1} - E_{\\rm min}^{\\gamma+1}} $\n",
    "\n",
    "    where\n",
    "    Integral = $N$,\n",
    "    Index = $\\gamma$,\n",
    "    LowerLimit = $E_{\\rm min}$,\n",
    "    UpperLimit = $E_{\\rm max}$.\n",
    "\n",
    "- **LogParabola**:\n",
    "\n",
    "    $\\frac{dN}{dE} = N_0 \\left( \\frac{E}{E_b} \\right)^{-(\\alpha + \\beta\\ln(E/E_b))}$\n",
    "\n",
    "    where\n",
    "    norm = $N_0$,\n",
    "    alpha =$\\alpha$,\n",
    "    beta = $\\beta$,\n",
    "    Eb = $E_b$.\n",
    "\n"
   ]
  },
  {
   "cell_type": "markdown",
   "id": "8547704f-98d1-4b7a-b82d-c870ef202ac2",
   "metadata": {},
   "source": [
    "#### spectral energy distribution"
   ]
  },
  {
   "cell_type": "code",
   "execution_count": 28,
   "id": "09b5c72a-acd9-4b30-8b41-9306d3be61b3",
   "metadata": {},
   "outputs": [
    {
     "data": {
      "text/html": [
       "<!-- The energy spectrum of the source -->\n",
       "<img src=\"Vela2/Vela_flux_SED_binned.pdf\" width=\"500\" height=\"340\">\n"
      ],
      "text/plain": [
       "<IPython.core.display.HTML object>"
      ]
     },
     "metadata": {},
     "output_type": "display_data"
    }
   ],
   "source": [
    "%%html\n",
    "<!-- The energy spectrum of the source -->\n",
    "<img src=\"Vela2/Vela_flux_SED_binned.pdf\" width=\"500\" height=\"340\">"
   ]
  },
  {
   "cell_type": "code",
   "execution_count": 38,
   "id": "e5ee7508-af87-4005-8252-a6fca8cff743",
   "metadata": {},
   "outputs": [
    {
     "name": "stdout",
     "output_type": "stream",
     "text": [
      "LikelihoodValue: 5103.350280055192\n",
      "Vela:\n",
      "  DEC_value: '-45.18'\n",
      "  Flux_error: '8.70e-09'\n",
      "  Flux_value: '2.05e-07'\n",
      "  Index_error: '0.11'\n",
      "  Index_scale: '-1.00e+00'\n",
      "  Index_value: '3.50'\n",
      "  Integral_error: '0.87'\n",
      "  Integral_scale: '1.00e-08'\n",
      "  Integral_value: '20.54'\n",
      "  LowerLimit_value: '3000.00'\n",
      "  Npred: '607.12'\n",
      "  RA_value: '128.84'\n",
      "  TsValue: 3671.264558148021\n",
      "  UpperLimit_value: '300000.00'\n",
      "gal_diffuse_source:\n",
      "  Flux_error: '1.69e-06'\n",
      "  Flux_value: '9.91e-06'\n",
      "  Index_value: '0.00'\n",
      "  Normalization_scale: '1.00e+00'\n",
      "  Normalization_value: '1.00'\n",
      "  Npred: '268.29'\n",
      "  Prefactor_error: '0.19'\n",
      "  Prefactor_scale: '1.00e+00'\n",
      "  Prefactor_value: '1.11'\n",
      "  Scale_value: '100.00'\n",
      "  TsValue: 34.2645614800349\n",
      "iso_diffuse_source:\n",
      "  Flux_error: '6.14e-06'\n",
      "  Flux_value: '1.01e-05'\n",
      "  Index_value: '-2.40'\n",
      "  Integral_error: '4.88'\n",
      "  Integral_scale: '1.00e-07'\n",
      "  Integral_value: '8.03'\n",
      "  LowerLimit_value: '3000.00'\n",
      "  Npred: '70.63'\n",
      "  TsValue: 2.951097990897324\n",
      "  UpperLimit_value: '300000.00'\n",
      "  Value_scale: '1.00e+00'\n",
      "  Value_value: '1.00'\n"
     ]
    }
   ],
   "source": [
    "%%bash\n",
    "\n",
    "# a summary of fitted results\n",
    "cat Vela2/Vela_results_BroadBand_binned.yaml"
   ]
  },
  {
   "cell_type": "markdown",
   "id": "cb046839-0770-4c54-9f9d-8439f949855b",
   "metadata": {},
   "source": [
    "We can find that the **integrated flux of Vela between 3 GeV and 300 GeV is $\\bf (2.05 \\pm 0.09)\\times 10^{-7}~\\rm \\bf cm^{-2}\\,s^{-1}$**.\n",
    "\n",
    "The flux can also been found in the **Vela_flux_BroadBand_binned.dat** file."
   ]
  },
  {
   "cell_type": "code",
   "execution_count": 39,
   "id": "7c896af4-6ac1-4553-b9dc-65109b763ad2",
   "metadata": {},
   "outputs": [
    {
     "name": "stdout",
     "output_type": "stream",
     "text": [
      "3.000000000000000000e+03\n",
      "3.000000000000000000e+05\n",
      "2.053910642011451620e-07\n",
      "8.702317680177163679e-09\n",
      "3.671264558148021024e+03\n"
     ]
    }
   ],
   "source": [
    "%%bash\n",
    "\n",
    "cat Vela2/Vela_flux_BroadBand_binned.dat\n",
    "\n",
    "## rows are\n",
    "# lower_energy_bound [MeV]\n",
    "# upper_energy_bound [MeV]\n",
    "# integrated_flux_value [cm^-2 s^-1]\n",
    "# integrated_flux_error [cm^-2 s^-1]\n",
    "# TS_value of the source"
   ]
  },
  {
   "cell_type": "markdown",
   "id": "d3a35b02-e31d-41f4-a217-8df9ea40a8f2",
   "metadata": {},
   "source": [
    "### 4) the best-fit model map\n",
    "\n",
    "The model map is stored as **Vela_mdlcube.fits**, you can visualize it using tools such as SAODS9 or plot it with Python"
   ]
  },
  {
   "cell_type": "code",
   "execution_count": 8,
   "id": "e45c8cdd-e5d1-4668-9e57-8f8a50631083",
   "metadata": {},
   "outputs": [
    {
     "name": "stdout",
     "output_type": "stream",
     "text": [
      "Filename: Vela2/Vela_mdlcube.fits\n",
      "No.    Name      Ver    Type      Cards   Dimensions   Format\n",
      "  0  SKYMAP        1 PrimaryHDU      23   (100, 100, 10)   int64   \n",
      "  1  EBOUNDS       1 BinTableHDU     15   10R x 2C   [D, D]   \n",
      "  2  Vela          1 ImageHDU        24   (100, 100, 10)   float64   \n",
      "  3  gal_diffuse_source    1 ImageHDU        24   (100, 100, 10)   float64   \n",
      "  4  iso_diffuse_source    1 ImageHDU        24   (100, 100, 10)   float64   \n",
      "  5  AllSource     1 ImageHDU        24   (100, 100, 10)   float64   \n"
     ]
    }
   ],
   "source": [
    "%%bash\n",
    "\n",
    "# firstly, find the file\n",
    "fitsinfo Vela2/Vela_mdlcube.fits\n",
    "# the total map has the number of 5"
   ]
  },
  {
   "cell_type": "code",
   "execution_count": 9,
   "id": "024c915c-6b00-4d4e-98fc-6df8264a779a",
   "metadata": {},
   "outputs": [],
   "source": [
    "## define a function for map visualization\n",
    "def show_map(mcubefile, fitsidx=0, ibin=0, outfile=None):\n",
    "    \"\"\"\n",
    "    mcubefile: the location of mdlcube.fits file\n",
    "    fitsidx:   int, the index of the AllSource row in the mdlcube.fits file\n",
    "    ibin:      int, the energy bin to visualize\n",
    "    outfile:   the output file name\n",
    "    \"\"\"\n",
    "    from matplotlib import pyplot as plt\n",
    "    from matplotlib import colors\n",
    "    from DmpST import SkyMap\n",
    "    # the binned model cube in each energy bin\n",
    "    mcube = SkyMap.Ccube(mcubefile, hdu=fitsidx) # the index of AllSource is 5\n",
    "    # make figure\n",
    "    fig = plt.figure()#figsize=(6, 5))\n",
    "    fig.add_subplot(111, projection=mcube.wcs)\n",
    "    im = plt.imshow(mcube.data[:,:,ibin].T, origin='lower', norm=colors.PowerNorm(0.5))\n",
    "    cb = plt.colorbar(im, label='photons/pixel')\n",
    "    plt.xlabel('R.A.')\n",
    "    plt.ylabel('Decl.')\n",
    "    plt.title(mcubefile.split('/')[-1] + ' [%.1f - %.1f GeV]'%(mcube.emins[ibin]/1e3, mcube.emaxs[ibin]/1e3))\n",
    "    if outfile is not None:\n",
    "        plt.savefig(outfile)\n",
    "    else:\n",
    "        plt.show()"
   ]
  },
  {
   "cell_type": "code",
   "execution_count": 32,
   "id": "124b1374-6bbc-4e87-bb0b-fd05ae88436f",
   "metadata": {},
   "outputs": [
    {
     "data": {
      "image/png": "[encoded data removed]",
      "text/plain": [
       "<Figure size 640x480 with 2 Axes>"
      ]
     },
     "metadata": {},
     "output_type": "display_data"
    }
   ],
   "source": [
    "show_map('Vela2/Vela_mdlcube.fits', 5)#, outfile='fig_mdlmap.png')"
   ]
  },
  {
   "cell_type": "code",
   "execution_count": 11,
   "id": "19412012-4847-4eeb-9cf7-e8038f2a6155",
   "metadata": {},
   "outputs": [
    {
     "data": {
      "image/png": "[encoded data removed]",
      "text/plain": [
       "<Figure size 640x480 with 2 Axes>"
      ]
     },
     "metadata": {},
     "output_type": "display_data"
    }
   ],
   "source": [
    "show_map('Vela2/Vela_ccube.fits')"
   ]
  },
  {
   "cell_type": "code",
   "execution_count": 40,
   "id": "8038c22c-8a53-4ced-b6c5-f946e34824c0",
   "metadata": {},
   "outputs": [
    {
     "name": "stdout",
     "output_type": "stream",
     "text": [
      "3.000000000000000000e+03\n",
      "3.000000000000000000e+05\n",
      "2.086429602460292277e-07\n",
      "9.020524847807648864e-09\n",
      "3.634848679374125823e+03\n"
     ]
    }
   ],
   "source": [
    "%%bash\n",
    "\n",
    "cat Vela2017/Vela_flux_BroadBand_binned.dat"
   ]
  },
  {
   "cell_type": "code",
   "execution_count": null,
   "id": "fa53bd65-03ff-4f32-a461-82c3d756bf9c",
   "metadata": {},
   "outputs": [],
   "source": [
    "%%bash\n",
    "\n",
    "year=2018\n",
    "year2=$(($year+1))\n",
    "\n",
    "\n",
    "# 1. generate the observation angle to see if the source is detectable in the given time interval\n",
    "python  DmpST/scripts/FindObservedTime.py  DAMPE_SC.fits  Vela${year}  C  128.84  -45.18  ${year}-01-01  ${year2}-01-01\n",
    "\n",
    "# 2. see the counts map, energy distribution to grasp the idea of the data\n",
    "python  DmpST/scripts/GetInfo.py  DAMPE_PH.fits  Vela${year}  C  128.84  -45.18   5   0.1  CAR  3e3  3e5  10  ${year}-01-01  ${year2}-01-01\n",
    "\n",
    "# 3. generate the live time cube for the given data set (13 mins for ord 5, 4 mins for ord 4)\n",
    "# python DmpST/scripts/Dmpltcube.py  DAMPE_SC.fits  Vela2017/events.fits  Vela2017/ltcube.fits  --nthreads 2  -ord 5\n",
    "python  DmpST/scripts/Dmpltcube.py  DAMPE_SC.fits  Vela${year}/events.fits  Vela${year}/ltcube.fits -ord 4\n",
    "\n",
    "# 4. fit the data with the model\n",
    "cp  Vela_input.yaml  Vela${year}/\n",
    "python  DmpST/scripts/BinnedPipeline.py  Vela${year}/events.fits  DAMPE_SC.fits  Vela${year}/ltcube.fits   Vela${year}   Vela   C   \\\n",
    "128.84  -45.18    7   5   0.1  CAR  3e3  3e5  10  ${year}-01-01  ${year2}-01-01   --irf DmpST/DmpIRFs/"
   ]
  },
  {
   "cell_type": "code",
   "execution_count": null,
   "id": "7c8d4ce3-2e53-4599-beaa-79e741ae8412",
   "metadata": {},
   "outputs": [],
   "source": [
    "# make a script\n",
    "\n",
    "## 1. save the script above to a file named with 'run.sh'\n",
    "## 2. add '#!/bin/bash' to the header of run.sh\n",
    "## 3. run 'chmod +x run.sh'\n",
    "## 4. then './run.sh'"
   ]
  },
  {
   "cell_type": "code",
   "execution_count": 53,
   "id": "858654b1-a858-4d0e-a062-a4ec2aa927fc",
   "metadata": {},
   "outputs": [
    {
     "data": {
      "text/plain": [
       "Text(0, 0.5, 'Flux [$\\\\rm cm^{-2} s^{-1}$]')"
      ]
     },
     "execution_count": 53,
     "metadata": {},
     "output_type": "execute_result"
    },
    {
     "data": {
      "image/png": "[encoded data removed]",
      "text/plain": [
       "<Figure size 640x480 with 1 Axes>"
      ]
     },
     "metadata": {},
     "output_type": "display_data"
    }
   ],
   "source": [
    "import numpy as np\n",
    "from matplotlib import pyplot as plt\n",
    "\n",
    "time = 2016.5\n",
    "fluxdat = np.loadtxt('Vela2/Vela_flux_BroadBand_binned.dat') # 2016\n",
    "plt.errorbar(time, fluxdat[2], yerr=fluxdat[3], marker='o', color='b')\n",
    "\n",
    "time = 2017.5\n",
    "fluxdat = np.loadtxt('Vela2017/Vela_flux_BroadBand_binned.dat') # 2017\n",
    "plt.errorbar(time, fluxdat[2], yerr=fluxdat[3], marker='o', color='b')\n",
    "\n",
    "time = 2018.5\n",
    "fluxdat = np.loadtxt('Vela2018/Vela_flux_BroadBand_binned.dat') # 2018\n",
    "plt.errorbar(time, fluxdat[2], yerr=fluxdat[3], marker='o', color='b')\n",
    "\n",
    "plt.xlabel('Time [year]')\n",
    "plt.ylabel('Flux [$\\\\rm cm^{-2} s^{-1}$]')"
   ]
  },
  {
   "cell_type": "markdown",
   "id": "3a1cb9b1-68a2-4a1d-aad2-fb0f75efe12c",
   "metadata": {},
   "source": [
    "------\n",
    "------\n",
    "# Lecture 2: gamma-ray analyses in depth\n",
    "\n",
    "Zhaoqiang Shen (zqshen@pmo.ac.cn) & Kaikai Duan (duankk@pmo.ac.cn)  \n",
    "2024/06/27"
   ]
  },
  {
   "attachments": {},
   "cell_type": "markdown",
   "id": "586bdc7f-08b6-422b-aec6-2e30199f07e8",
   "metadata": {},
   "source": [
    "**In the previous lecture,**\n",
    "- we learnt the basic usage of **DmpST**,\n",
    "- practised running the data analysis pipeline,\n",
    "- fit the Vela model to the data."
   ]
  },
  {
   "cell_type": "markdown",
   "id": "bf4f7969-009b-4831-9085-8417be3701b3",
   "metadata": {},
   "source": [
    "```shell\n",
    "# CLI: python BinnedPipeline.py               evfile           scfile          ltcube       path srcName GorC xref   yref rad freerad binsz proj emin emax ebins UTCmin UTCmax\n",
    "python DmpST/scripts/BinnedPipeline.py  Vela2/events.fits  DAMPE_SC.fits  Vela2/ltcube.fits Vela2  Vela   C  128.84 -45.18 7   5  0.1   CAR  3e3  3e5 10 2016-01-01 2017-01-01 --irf DmpST/DmpIRFs/\n",
    "```"
   ]
  },
  {
   "cell_type": "markdown",
   "id": "522680e7-c201-44f7-a2f0-c71dc8a21cc7",
   "metadata": {},
   "source": [
    "This is what we get:\n",
    "\n",
    "<img src=\"Vela2/Vela_flux_SED_binned.pdf\" width=\"500\" height=\"340\">\n",
    "\n",
    "*Good...*\n",
    "\n",
    "## In this lecture\n",
    "We will go a step further, and try to answer \n",
    "- *what has acturally been done* in the pipeline\n",
    "<!-- - and *what can we do* in science. -->"
   ]
  },
  {
   "attachments": {},
   "cell_type": "markdown",
   "id": "d34d1e66-83f8-4749-895c-2e3572b8231b",
   "metadata": {},
   "source": [
    "------\n",
    "## 1. About the binned pipeline\n",
    "### Step 1: prepare data\n",
    "\n",
    "- choose the region of interest around your source\n",
    "- select the time interval, and the energy range\n",
    "- bin the photons into the maps\n",
    "\n",
    "<img src=\"images/img3.png\" width=\"700\" height=\"500\">"
   ]
  },
  {
   "cell_type": "code",
   "execution_count": 12,
   "id": "273ed5ee-92e0-4a98-91af-1b0f7253f34e",
   "metadata": {},
   "outputs": [],
   "source": [
    "## input from argument\n",
    "path = 'analysis1'\n",
    "srcname = 'Vela'\n",
    "\n",
    "# on the data selection\n",
    "ra, dec = 128.84, -45.18 #[deg], ra, dec of Vela pulsar\n",
    "emin, emax = 3e3, 3e5 # [MeV], 3-300 GeV\n",
    "roi = 7 # [deg], the radius of circular region\n",
    "tmin, tmax = '2016-01-01', '2017-01-01'\n",
    "\n",
    "# on the data binning\n",
    "ebins = 10 # 10 energy bins between 3-300 GeV\n",
    "freerad = 5 # [deg], radius of the inscribed circle of the rectangular ROI\n",
    "binsz = 0.2 # [deg], the size of each pixel\n",
    "\n",
    "# input files\n",
    "evfile = 'DAMPE_PH.fits' # events file\n",
    "scfile = 'DAMPE_SC.fits'"
   ]
  },
  {
   "cell_type": "code",
   "execution_count": 13,
   "id": "4b83b241-0987-4904-be3e-8d58ffc694cf",
   "metadata": {},
   "outputs": [
    {
     "name": "stdout",
     "output_type": "stream",
     "text": [
      "make cmap for the photons.................................\n",
      "make ccube for the photons.................................\n"
     ]
    },
    {
     "data": {
      "text/plain": [
       "<DmpST.SkyMap.NewCcube at 0x179545d60>"
      ]
     },
     "execution_count": 13,
     "metadata": {},
     "output_type": "execute_result"
    }
   ],
   "source": [
    "from DmpST import Events, DmpTime\n",
    "\n",
    "# line 36-37\n",
    "minmet, maxmet = DmpTime.UTC2MET(tmin), DmpTime.UTC2MET(tmax)\n",
    "\n",
    "# line 47-54\n",
    "allevents = Events.Events(evfile)\n",
    "\n",
    "ROIevents = allevents.CircleSelect(outfile='{}/{}_events.fits'.format(path, srcname), # output event file\n",
    "    xref=ra, yref=dec, rad=roi, tmin=minmet, tmax=maxmet, emin=emin, emax=emax, # selection\n",
    "    GorC='C', cosThetamin=0.5, cosThetamax=1, evtype=2) # misc parameters\n",
    "\n",
    "npix = int(2*freerad/binsz)\n",
    "# the energy integrated map\n",
    "ROIevents.Cmap(outfile='{}/{}_cmap.fits'.format(path, srcname), \n",
    "    nxpix=npix, nypix=npix, binsz=binsz, GorC='C', xref=ra, yref=dec, proj='CAR')\n",
    "# the map w/ energy bins\n",
    "ROIevents.Ccube(outfile='{}/{}_ccube.fits'.format(path, srcname), # output counts cube file\n",
    "    nxpix=npix, nypix=npix, binsz=binsz, xref=ra, yref=dec, GorC='C', proj='CAR', # the pixel binning\n",
    "    emin=emin, emax=emax, ebins=ebins) # energy binning"
   ]
  },
  {
   "cell_type": "code",
   "execution_count": 14,
   "id": "20c58a8a-87a2-452f-9b97-b35b701a3bdd",
   "metadata": {},
   "outputs": [
    {
     "data": {
      "image/png": "[encoded data removed]",
      "text/plain": [
       "<Figure size 640x480 with 2 Axes>"
      ]
     },
     "metadata": {},
     "output_type": "display_data"
    }
   ],
   "source": [
    "# Let's see the binned map w/ energy integrated\n",
    "import numpy as np\n",
    "from matplotlib import pyplot as plt, colors\n",
    "from DmpST import SkyMap\n",
    "%matplotlib inline\n",
    "\n",
    "cmapfile = '{}/{}_cmap.fits'.format(path, srcname)\n",
    "cmap = SkyMap.Cmap(cmapfile)\n",
    "\n",
    "fig = plt.figure()#figsize=(6, 5))\n",
    "fig.add_subplot(111, projection=cmap.wcs)\n",
    "im = plt.imshow(cmap.data.T, origin='lower', norm=colors.PowerNorm(0.5))\n",
    "cb = plt.colorbar(im, label='photons/pixel')\n",
    "plt.xlabel('R.A.')\n",
    "plt.ylabel('Decl.')\n",
    "plt.title(cmapfile.split('/')[-1] + ' [energy integrated]')\n",
    "plt.show()"
   ]
  },
  {
   "cell_type": "code",
   "execution_count": 15,
   "id": "7a2df18c-af40-46e8-af93-e266119579c9",
   "metadata": {},
   "outputs": [
    {
     "data": {
      "image/png": "[encoded data removed]",
      "text/plain": [
       "<Figure size 640x480 with 2 Axes>"
      ]
     },
     "metadata": {},
     "output_type": "display_data"
    }
   ],
   "source": [
    "# the binned map in each energy bin\n",
    "ccubefile = '{}/{}_ccube.fits'.format(path, srcname)\n",
    "ccube = SkyMap.Ccube(ccubefile)\n",
    "\n",
    "ibin = 1 # which energy bin to analyze\n",
    "\n",
    "fig = plt.figure()#figsize=(6, 5))\n",
    "fig.add_subplot(111, projection=ccube.wcs)\n",
    "im = plt.imshow(ccube.data[:,:,ibin].T, origin='lower', norm=colors.PowerNorm(0.5))\n",
    "cb = plt.colorbar(im, label='photons/pixel')\n",
    "plt.xlabel('R.A.')\n",
    "plt.ylabel('Decl.')\n",
    "plt.title(ccubefile.split('/')[-1] + ' [%.1f - %.1f GeV]'%(ccube.emins[ibin]/1e3, ccube.emaxs[ibin]/1e3))\n",
    "plt.show()"
   ]
  },
  {
   "attachments": {},
   "cell_type": "markdown",
   "id": "dcfe5f6f-cd4d-4c09-8df8-f0e0b6f7ddfb",
   "metadata": {},
   "source": [
    "-----\n",
    "### Step 2: construct gamma-ray model and fit\n",
    "\n",
    "<img src=\"images/img4.png\" width=\"700\" height=\"500\">"
   ]
  },
  {
   "attachments": {},
   "cell_type": "markdown",
   "id": "100d8369-a77b-4e2c-a391-4b85d61df76b",
   "metadata": {},
   "source": [
    "In gamma-ray data analyses, the inference of the source's parameters is done by \n",
    "comparing the parameterized maps to the observed ones.\n",
    "\n",
    "- The map *without* instrumental responses is\n",
    "\n",
    "\n",
    "    <img src=\"images/eq1.png\" width=\"300\" height=\"340\">\n",
    "\n",
    "    **ModelMap $ \\sim \\sum_i^{n_{comp}}$ Flux$_i$ $\\times$ Exposure$_i$**\n",
    "\n",
    "- The map *with* instrumental responses is\n",
    "\n",
    "    <img src=\"images/eq2.png\" width=\"400\" height=\"340\">\n",
    "\n",
    "\n",
    "Now let's first calculate the livetime cube, which tell us **for the given data what the observing time is at each point in the sky**.\n",
    "With it, we can easily calculate the exposure ($\\sim$ area $\\times$ time)."
   ]
  },
  {
   "cell_type": "code",
   "execution_count": 16,
   "id": "a039825a-3a04-4086-9d88-61ab0246e332",
   "metadata": {},
   "outputs": [],
   "source": [
    "%%bash\n",
    "# let's first run this because it will take a lot of time\n",
    "python DmpST/scripts/Dmpltcube.py DAMPE_SC.fits analysis1/Vela_events.fits Vela_ltcube.fits -ord 5\n",
    "# NOTE: please use -ord 6 in real data analysis. Here we set ord=5 so as to speed up the calculation"
   ]
  },
  {
   "attachments": {},
   "cell_type": "markdown",
   "id": "a4fc7470-ddac-4105-a2d6-f2b0d4b372ee",
   "metadata": {},
   "source": [
    "There are several components, as clearly shown in the map, in the sky:\n",
    "- **point-like sources**  (only Vela here): $$S(E,\\hat{p},t) = \\sum_i s_i(E,t)\\delta(\\hat{p}-\\hat{p}_i)$$\n",
    "- **isotropic emission**: $$+ S_{eg}(E,\\hat{p})$$\n",
    "- **galactic diffuse emission** (map is below): $$+ S_G(E,\\hat{p})$$\n",
    " \n",
    "\n",
    "<img src=\"images/img5.png\" width=\"700\" height=\"500\">\n",
    "    \n",
    "\n",
    "Based on it, we can make a parameterized model as follows:\n",
    "\n",
    "```yaml\n",
    "Vela:\n",
    "  name: Vela\n",
    "  type: PointSource\n",
    "  spatialModel:\n",
    "    type: SkyDirFunction\n",
    "    RA:  {free: 0, max: 360.0,min: -360.0, name: RA,  scale: 1.0, value: 128.84}\n",
    "    DEC: {free: 0, max: 90.0, min: -90.0,  name: DEC, scale: 1.0, value: -45.18}\n",
    "  spectrum:\n",
    "    type: PowerLaw2\n",
    "    Integral:   {free: 1, min: 1e-3, max: 1e3, name: Integral,   scale: 1e-8, value: 1}\n",
    "    Index:      {free: 1, min: 0,    max: 10,  name: Index,      scale: -1,   value: 2}\n",
    "    LowerLimit: {free: 0, min: 3e3,  max: 1e6, name: LowerLimit, scale: 1,    value: 3e3}\n",
    "    UpperLimit: {free: 0, min: 3e3,  max: 1e6, name: UpperLimit, scale: 1,    value: 3e5}\n",
    "\n",
    "gal_diffuse_source:\n",
    "  name: gal_diffuse_source\n",
    "  type: DiffuseSource\n",
    "  spatialModel:\n",
    "    type: MapcubeFunction\n",
    "    Normalization: {free: 0, max: 1e3, min: 1e-3, name: Normalization, scale: 1.0, value: 1.0}\n",
    "    file: dampe_gal_diffuse_model_v2_fix.fits\n",
    "  spectrum:\n",
    "    type: PowerLaw\n",
    "    Prefactor: {free: 1, max: 10,  min: 0,   name: Prefactor, scale: 1,   value: 1}\n",
    "    Index:     {free: 0, max: 1,   min: -1,  name: Index,     scale: 1.0, value: 0}\n",
    "    Scale:     {free: 0, max: 1e4, min: 3e3, name: Scale,     scale: 1.0, value: 5000}\n",
    "\n",
    "iso_diffuse_source:\n",
    "  name: iso_diffuse_source\n",
    "  type: DiffuseSource\n",
    "  spatialModel:\n",
    "    type: ConstantValue\n",
    "    Value: {free: 0, max: 10.0, min: 0.0, name: Value, scale: 1.0, value: 1.0}\n",
    "  spectrum:\n",
    "    type: PowerLaw2\n",
    "    Integral:   {free: 1, max: 1e3, min: 1e-3, name: Integral,   scale: 1e-7,value: 1}\n",
    "    Index:      {free: 0, min: 0,   max: 10,   name: Index,      scale: -1,  value: 2.4}\n",
    "    LowerLimit: {free: 0, min: 3e3, max: 1e6,  name: LowerLimit, scale: 1,   value: 3e3}\n",
    "    UpperLimit: {free: 0, min: 3e3, max: 1e6,  name: UpperLimit, scale: 1,   value: 3e5}\n",
    "```\n",
    "\n",
    "For the Galactic diffuse emission and isotropic emission, the recommendation parameters are set as above.\n",
    "For the point sources, you may either set by yourself or simply refer to the DAMPE point catalog."
   ]
  },
  {
   "cell_type": "code",
   "execution_count": 17,
   "id": "3e4e857c-0b7a-4b47-aa42-35117e971185",
   "metadata": {},
   "outputs": [
    {
     "name": "stdout",
     "output_type": "stream",
     "text": [
      "'Binned Analysis parameters:'\n",
      "{'CubeType': 'Map',\n",
      " 'ccube': 'analysis1/Vela_ccube.fits',\n",
      " 'cosThetamax': 1.0,\n",
      " 'cosThetamin': 0.5,\n",
      " 'emax': 300000.0,\n",
      " 'emin': 3000.0,\n",
      " 'evtype': 2,\n",
      " 'irf': 'DmpST/DmpIRFs',\n",
      " 'ltcube': 'Vela_ltcube.fits',\n",
      " 'srcName': 'Vela',\n",
      " 'srcmaps': 'analysis1/Vela_srcmaps.fits',\n",
      " 'srcmdl': 'analysis1/Vela_input.yaml'}\n",
      "analysis1/Vela_srcmaps.fits\n",
      "the energy range is [0]:3000.0MeV to [9]:300000.0MeV\n",
      "Add  Vela\n",
      "Add  gal_diffuse_source\n",
      "Add  iso_diffuse_source\n"
     ]
    }
   ],
   "source": [
    "from DmpST import LikelihoodAnalysis, Model\n",
    "\n",
    "pars= {'srcName': 'Vela',\n",
    "        'ltcube': 'Vela_ltcube.fits',\n",
    "         'ccube': 'analysis1/Vela_ccube.fits',\n",
    "       'srcmaps': 'analysis1/Vela_srcmaps.fits',\n",
    "        'srcmdl': 'analysis1/Vela_input.yaml',\n",
    "          'emin': emin,\n",
    "          'emax': emax,\n",
    "   'cosThetamin': 0.5,\n",
    "   'cosThetamax': 1.,\n",
    "           'irf': 'DmpST/DmpIRFs',\n",
    "        'evtype': 2,\n",
    "      'CubeType': 'Map'}\n",
    "\n",
    "# calculate the expected map of each component and convolve the responses\n",
    "Binned = LikelihoodAnalysis.BinnedAnalysis(**pars)"
   ]
  },
  {
   "attachments": {},
   "cell_type": "markdown",
   "id": "7edf1327-d950-47ec-8693-bae58a6b363b",
   "metadata": {},
   "source": [
    "### Step 3: Fit the model to the data\n",
    "\n",
    "<img src=\"images/img6.png\" width=\"700\" height=\"500\">"
   ]
  },
  {
   "cell_type": "code",
   "execution_count": 18,
   "id": "f8dd7817-fe88-4bdc-af4a-71e36e5edc9e",
   "metadata": {},
   "outputs": [
    {
     "name": "stdout",
     "output_type": "stream",
     "text": [
      "Minuit Starting......\n",
      "{'Vela__Index': 2.0, 'limit_Vela__Index': (0.0, 10.0), 'error_Vela__Index': 0.2, 'Vela__Integral': 1.0, 'limit_Vela__Integral': (0.001, 1000.0), 'error_Vela__Integral': 0.1, 'gal_diffuse_source__Prefactor': 1.0, 'limit_gal_diffuse_source__Prefactor': (0.0, 10.0), 'error_gal_diffuse_source__Prefactor': 0.1, 'iso_diffuse_source__Integral': 1.0, 'limit_iso_diffuse_source__Integral': (0.001, 1000.0), 'error_iso_diffuse_source__Integral': 0.1}\n",
      "Migrad Start......\n",
      "Calculate the srcmap for Vela\n",
      "Calculate the srcmap for gal_diffuse_source\n",
      "Calculate the srcmap for iso_diffuse_source\n",
      "Hesse Start......\n",
      "Calculate Npred of Vela\n",
      "Calculate Npred of gal_diffuse_source\n",
      "Calculate Npred of iso_diffuse_source\n",
      "Calculate Flux of Vela\n",
      "Calculate Flux of gal_diffuse_source\n",
      "Calculate Flux of iso_diffuse_source\n",
      "Calculate TsValue of Vela\n",
      "Minuit Starting......\n",
      "{'gal_diffuse_source__Prefactor': 1.1209283035395705, 'limit_gal_diffuse_source__Prefactor': (0.0, 10.0), 'error_gal_diffuse_source__Prefactor': 0.18918502785232666, 'iso_diffuse_source__Integral': 7.395743562485617, 'limit_iso_diffuse_source__Integral': (0.001, 1000.0), 'error_iso_diffuse_source__Integral': 4.848346426039819}\n",
      "Migrad Start......\n",
      "Calculate TsValue of gal_diffuse_source\n",
      "Minuit Starting......\n",
      "{'Vela__Index': 3.298945543905616, 'limit_Vela__Index': (0.0, 10.0), 'error_Vela__Index': 0.10803280276211491, 'Vela__Integral': 21.817449904360455, 'limit_Vela__Integral': (0.001, 1000.0), 'error_Vela__Integral': 0.9211102068550687, 'iso_diffuse_source__Integral': 7.395743562485617, 'limit_iso_diffuse_source__Integral': (0.001, 1000.0), 'error_iso_diffuse_source__Integral': 4.848346426039819}\n",
      "Migrad Start......\n",
      "Calculate TsValue of iso_diffuse_source\n",
      "Minuit Starting......\n",
      "{'Vela__Index': 3.298945543905616, 'limit_Vela__Index': (0.0, 10.0), 'error_Vela__Index': 0.10803280276211491, 'Vela__Integral': 21.817449904360455, 'limit_Vela__Integral': (0.001, 1000.0), 'error_Vela__Integral': 0.9211102068550687, 'gal_diffuse_source__Prefactor': 1.1209283035395705, 'limit_gal_diffuse_source__Prefactor': (0.0, 10.0), 'error_gal_diffuse_source__Prefactor': 0.18918502785232666}\n",
      "Migrad Start......\n"
     ]
    }
   ],
   "source": [
    "import warnings\n",
    "warnings.filterwarnings(\"ignore\")\n",
    "\n",
    "Binned.Fit(hesse=True, Npred=True, Flux=True, TsValue=True, srcmaps=True, mdlcube=True)\n",
    "\n",
    "Binned.SaveFitModel('analysis1/Vela_fitModel_BroadBand_binned.yaml') # the fitted model\n",
    "Binned.SaveFitResults('analysis1/Vela_results_BroadBand_binned.yaml') # a summary of fitted parameters\n",
    "Binned.SaveMdlCube('analysis1/modelcube_global.fits') # save the best-fit model map"
   ]
  },
  {
   "cell_type": "markdown",
   "id": "13f4ab0f-34eb-4e0b-aef1-a8053e5d7b66",
   "metadata": {},
   "source": [
    "#### 1. model map\n",
    "The model map is the expected counts map that generated assuming the best-fit sources' parameters\n",
    "\n",
    "Let's have a look."
   ]
  },
  {
   "cell_type": "code",
   "execution_count": 19,
   "id": "53f8fa87-4c2b-438d-adcf-c8a9b78e9ac5",
   "metadata": {},
   "outputs": [
    {
     "name": "stdout",
     "output_type": "stream",
     "text": [
      "Filename: analysis1/modelcube_global.fits\n",
      "No.    Name      Ver    Type      Cards   Dimensions   Format\n",
      "  0  SKYMAP        1 PrimaryHDU      23   (50, 50, 10)   int64   \n",
      "  1  EBOUNDS       1 BinTableHDU     15   10R x 2C   [D, D]   \n",
      "  2  Vela          1 ImageHDU        24   (50, 50, 10)   float64   \n",
      "  3  gal_diffuse_source    1 ImageHDU        24   (50, 50, 10)   float64   \n",
      "  4  iso_diffuse_source    1 ImageHDU        24   (50, 50, 10)   float64   \n",
      "  5  AllSource     1 ImageHDU        24   (50, 50, 10)   float64   \n"
     ]
    }
   ],
   "source": [
    "%%bash\n",
    "# first to see what is the index of the cube\n",
    "fitsinfo analysis1/modelcube_global.fits"
   ]
  },
  {
   "cell_type": "code",
   "execution_count": 20,
   "id": "6e604768-8d9e-4bdf-ac00-e7f34f1ecfa3",
   "metadata": {},
   "outputs": [
    {
     "data": {
      "image/png": "[encoded data removed]",
      "text/plain": [
       "<Figure size 640x480 with 2 Axes>"
      ]
     },
     "metadata": {},
     "output_type": "display_data"
    }
   ],
   "source": [
    "# the binned model cube in each energy bin\n",
    "mcubefile = 'analysis1/modelcube_global.fits'\n",
    "mcube = SkyMap.Ccube(mcubefile, hdu=5) # the index of AllSource is 5\n",
    "\n",
    "ibin = 1 # which energy bin to analyze\n",
    "\n",
    "fig = plt.figure()#figsize=(6, 5))\n",
    "fig.add_subplot(111, projection=mcube.wcs)\n",
    "im = plt.imshow(mcube.data[:,:,ibin].T, origin='lower', norm=colors.PowerNorm(0.5))\n",
    "cb = plt.colorbar(im, label='photons/pixel')\n",
    "plt.xlabel('R.A.')\n",
    "plt.ylabel('Decl.')\n",
    "plt.title(mcubefile.split('/')[-1] + ' [%.1f - %.1f GeV]'%(mcube.emins[ibin]/1e3, mcube.emaxs[ibin]/1e3))\n",
    "plt.show()"
   ]
  },
  {
   "cell_type": "markdown",
   "id": "7fe7f593-aa34-47b8-a760-d5f3f67916f8",
   "metadata": {},
   "source": [
    "#### 2. summary of best-fit parameters"
   ]
  },
  {
   "cell_type": "code",
   "execution_count": 21,
   "id": "ae7f806f-13d9-4dfc-9221-afebf6d729bf",
   "metadata": {},
   "outputs": [
    {
     "name": "stdout",
     "output_type": "stream",
     "text": [
      "LikelihoodValue: 2532.391793876096\n",
      "Vela:\n",
      "  DEC_value: '-45.18'\n",
      "  Flux_error: '9.21e-09'\n",
      "  Flux_value: '2.18e-07'\n",
      "  Index_error: '0.11'\n",
      "  Index_scale: '-1.00e+00'\n",
      "  Index_value: '3.30'\n",
      "  Integral_error: '0.92'\n",
      "  Integral_scale: '1.00e-08'\n",
      "  Integral_value: '21.82'\n",
      "  LowerLimit_value: '3000.00'\n",
      "  Npred: '610.36'\n",
      "  RA_value: '128.84'\n",
      "  TsValue: 3625.7256985488993\n",
      "  UpperLimit_value: '300000.00'\n",
      "gal_diffuse_source:\n",
      "  Flux_error: '1.69e-06'\n",
      "  Flux_value: '9.99e-06'\n",
      "  Index_value: '0.00'\n",
      "  Normalization_scale: '1.00e+00'\n",
      "  Normalization_value: '1.00'\n",
      "  Npred: '270.04'\n",
      "  Prefactor_error: '0.19'\n",
      "  Prefactor_scale: '1.00e+00'\n",
      "  Prefactor_value: '1.12'\n",
      "  Scale_value: '100.00'\n",
      "  TsValue: 35.529414757471386\n",
      "iso_diffuse_source:\n",
      "  Flux_error: '6.10e-06'\n",
      "  Flux_value: '9.29e-06'\n",
      "  Index_value: '-2.40'\n",
      "  Integral_error: '4.85'\n",
      "  Integral_scale: '1.00e-07'\n",
      "  Integral_value: '7.40'\n",
      "  LowerLimit_value: '3000.00'\n",
      "  Npred: '65.65'\n",
      "  TsValue: 2.557233693820308\n",
      "  UpperLimit_value: '300000.00'\n",
      "  Value_scale: '1.00e+00'\n",
      "  Value_value: '1.00'\n"
     ]
    }
   ],
   "source": [
    "%%bash\n",
    "# cat analysis1/Vela_fitModel_BroadBand_binned.yaml\n",
    "cat analysis1/Vela_results_BroadBand_binned.yaml"
   ]
  },
  {
   "cell_type": "markdown",
   "id": "fcc35d90-031e-4ec8-9a19-c803319a939d",
   "metadata": {},
   "source": [
    "#### 3. spectrum checking\n",
    "Sometimes the spectral parameterization may not be good, you can check the spectral energy \n",
    "distribution (SED) obtained from the pipeline. Here we will not show the code (but I can\n",
    "tell you that it basically run the same fitting in every energy bins).\n",
    "\n",
    "Here I only refer to the results that you have already obtained."
   ]
  },
  {
   "cell_type": "code",
   "execution_count": 22,
   "id": "ec834b56-9ce2-4c4d-adc8-555f15fbe29a",
   "metadata": {},
   "outputs": [
    {
     "data": {
      "text/plain": [
       "(3e-06, 0.002)"
      ]
     },
     "execution_count": 22,
     "metadata": {},
     "output_type": "execute_result"
    },
    {
     "data": {
      "image/png": "[encoded data removed]",
      "text/plain": [
       "<Figure size 640x480 with 1 Axes>"
      ]
     },
     "metadata": {},
     "output_type": "display_data"
    }
   ],
   "source": [
    "import numpy as np\n",
    "from matplotlib import pyplot as plt\n",
    "%matplotlib inline\n",
    "\n",
    "def plotsed_simple(global_specfile, sed_specfile):\n",
    "    # global fit\n",
    "    Es, dNdEgls = np.loadtxt(global_specfile).T\n",
    "    \n",
    "    # sed\n",
    "    data = np.loadtxt(sed_specfile)\n",
    "    emins, emaxs, fluxs, fluxerrs, tsvals, fluxuls = data[:,0], data[:,1], data[:,2], data[:,3], data[:,4], data[:,5]\n",
    "    \n",
    "    emids = np.sqrt(emins * emaxs)\n",
    "    eerrs = np.array([emids-emins, emaxs-emids])\n",
    "    E2dNdEs = emids**2 * fluxs / (emaxs - emins)\n",
    "    E2dNdEers = emids**2 * fluxerrs / (emaxs - emins)\n",
    "    E2dNdEuls = emids**2 * fluxuls / (emaxs - emins)                                                                                                          \n",
    "    \n",
    "    # make figure\n",
    "    fig, ax = plt.subplots()     \n",
    "    condition = (Es>=emins[0]) & (Es<= emaxs[-1])\n",
    "    plt.plot(Es[condition], Es[condition]**2 * dNdEgls[condition])\n",
    "    ax.errorbar(emids[tsvals>9], E2dNdEs[tsvals>9], xerr=eerrs[:,tsvals>9], yerr=E2dNdEers[tsvals>9], fmt='.k', label='DAMPE')\n",
    "    ax.errorbar(emids[tsvals<9], E2dNdEuls[tsvals<9], xerr=eerrs[:,tsvals<9], yerr=E2dNdEuls[tsvals<9]/2., fmt='.k', uplims=True)\n",
    "    ax.set_xlim(emins[0], emaxs[-1])\n",
    "    ax.set_xscale('log')\n",
    "    ax.set_yscale('log')\n",
    "    ax.set_xlabel(r'Energy [MeV]')\n",
    "    ax.set_ylabel(r'Energy Flux [MeV cm$^{-2}$ s$^{-1}$]')\n",
    "\n",
    "## make plot\n",
    "plotsed_simple('analysis0/Vela_BroadBand_Spectrum.dat', 'analysis0/Vela_flux_SED_binned.dat')\n",
    "plt.ylim(3e-6,2e-3)\n"
   ]
  },
  {
   "cell_type": "markdown",
   "id": "de9b07c3-0391-4536-8d22-171c50ba3eea",
   "metadata": {},
   "source": [
    "### Step 4: what we can further do?"
   ]
  },
  {
   "cell_type": "markdown",
   "id": "58897c5e-c0cb-4ee7-82ce-6464e322accd",
   "metadata": {},
   "source": [
    "#### improve the spectral parameterization\n",
    "\n",
    "Here is part of the our model\n",
    "```yaml\n",
    "Vela:\n",
    "  spectrum:\n",
    "    type: PowerLaw2\n",
    "    Integral:   {free: 1, min: 1e-3, max: 1e3, name: Integral,   scale: 1e-8, value: 1}\n",
    "    Index:      {free: 1, min: 0,    max: 10,  name: Index,      scale: -1,   value: 2}\n",
    "    LowerLimit: {free: 0, min: 3e3,  max: 1e6, name: LowerLimit, scale: 1,    value: 3e3}\n",
    "    UpperLimit: {free: 0, min: 3e3,  max: 1e6, name: UpperLimit, scale: 1,    value: 3e5}\n",
    "```\n",
    "\n",
    "You may find the PowerLaw model can not well fit the SED of the source, probably you can change to something like LogParabola spectrum\n",
    "```yaml\n",
    "Vela:\n",
    "  spectrum:\n",
    "    type: LogParabola\n",
    "    norm:  {free: 1, min: 1e-3, max: 1e3, name: norm,  scale: 1e-9, value: 1}\n",
    "    alpha: {free: 1, min: -10,  max: 10,  name: alpha, scale: 1,    value: 2}\n",
    "    Eb:    {free: 0, min: 1e3,  max: 1e6, name: Eb,    scale: 1,    value: 2e3}\n",
    "    beta:  {free: 1, min: -10,  max: 10, name: beta,   scale: 1,    value: 0.4}\n",
    "```\n",
    "\n",
    "Actually, we have implemented all the spectral types that Fermi-LAT science has. You can check [**here**](https://fermi.gsfc.nasa.gov/ssc/data/analysis/scitools/source_models.html) for the details on the spectral types.\n"
   ]
  },
  {
   "cell_type": "code",
   "execution_count": 23,
   "id": "0aa99de4-a27c-431b-bd0f-3357ed9da402",
   "metadata": {},
   "outputs": [
    {
     "name": "stdout",
     "output_type": "stream",
     "text": [
      "Vela:\n",
      "  name: Vela\n",
      "  type: PointSource\n",
      "  spatialModel:\n",
      "    type: SkyDirFunction\n",
      "    RA: {free: 0, max: 360.0,min: -360.0,name: RA, scale: 1.0, value: 128.84}\n",
      "    DEC: {free: 0, max: 90.0, min: -90.0, name: DEC, scale: 1.0, value: -45.18}\n",
      "  spectrum:\n",
      "    type: LogParabola\n",
      "    norm:  {free: 1, min: 1e-3, max: 1e3, name: norm,  scale: 1e-9, value: 1}\n",
      "    alpha: {free: 1, min: -10,  max: 10,  name: alpha, scale: 1,    value: 2}\n",
      "    Eb:    {free: 0, min: 1e3,  max: 1e6, name: Eb,    scale: 1,    value: 2e3}\n",
      "    beta:  {free: 1, min: -10,  max: 10, name: beta,   scale: 1,    value: 0.4}\n",
      "\n",
      "gal_diffuse_source:\n",
      "  name: gal_diffuse_source\n",
      "  type: DiffuseSource\n",
      "  spatialModel:\n",
      "    type: MapCubeFunction\n",
      "    Normalization: {free: 0, max: 1e3, min: 1e-3, name: Normalization, scale: 1.0, value: 1.0}\n",
      "    file: dampe_gal_diffuse_model_v2_fix.fits\n",
      "  spectrum:\n",
      "    type: PowerLaw\n",
      "    Prefactor: {free: 1, max: 10, min: 0, name: Prefactor, scale: 1, value: 1}\n",
      "    Index: {free: 0, max: 1, min: -1, name: Index, scale: 1.0, value: 0}\n",
      "    Scale: {free: 0, max: 2e2, min: 5e1, name: Scale, scale: 1.0, value: 1e2}\n",
      "\n",
      "iso_diffuse_source:\n",
      "  name: iso_diffuse_source\n",
      "  type: DiffuseSource\n",
      "  spatialModel:\n",
      "    type: ConstantValue\n",
      "    Value: {free: 0, max: 10.0, min: 0.0, name: Value, scale: 1.0, value: 1.0}\n",
      "  spectrum:\n",
      "    type: PowerLaw2\n",
      "    Integral: {free: 1, max: 1e3, min: 1e-3, name: Integral, scale: 1e-7, value: 1}\n",
      "    Index: {free: 0, min: 0, max: 10, name: Index, scale: -1, value: 2.4}\n",
      "    LowerLimit: {free: 0, min: 3e3, max: 1e6, name: LowerLimit, scale: 1, value: 3e3}\n",
      "    UpperLimit: {free: 0, min: 3e3, max: 1e6, name: UpperLimit, scale: 1, value: 3e5}\n"
     ]
    }
   ],
   "source": [
    "%%bash\n",
    "# revise the yaml file\n",
    "cat analysis2/Vela_input.yaml"
   ]
  },
  {
   "cell_type": "code",
   "execution_count": null,
   "id": "903b028c-98b9-4817-a310-824bab4194c0",
   "metadata": {},
   "outputs": [],
   "source": [
    "%%bash\n",
    "# rerun the pipeline\n",
    "python DmpST/scripts/BinnedPipeline.py DAMPE_PH.fits DAMPE_SC.fits Vela_ltcube.fits analysis2 Vela   C  128.84 -45.18 7   5  0.1   \\\n",
    "CAR  3e3  3e5 10 2016-01-01 2017-01-01 --irf DmpST/DmpIRFs/"
   ]
  },
  {
   "cell_type": "code",
   "execution_count": 25,
   "id": "76262904-0e4c-415b-a41c-d2fd0e36a5d0",
   "metadata": {},
   "outputs": [
    {
     "name": "stdout",
     "output_type": "stream",
     "text": [
      "LikelihoodValue: 5098.665383820684\n",
      "Vela:\n",
      "  DEC_value: '-45.18'\n",
      "  Eb_value: '2000.00'\n",
      "  Flux_error: nan\n",
      "  Flux_value: '2.07e-07'\n",
      "  Npred: '606.42'\n",
      "  RA_value: '128.84'\n",
      "  TsValue: 3672.9656293089374\n",
      "  alpha_error: '0.50'\n",
      "  alpha_scale: '1.00e+00'\n",
      "  alpha_value: '2.54'\n",
      "  beta_error: '0.22'\n",
      "  beta_scale: '1.00e+00'\n",
      "  beta_value: '0.42'\n",
      "  norm_error: '0.11'\n",
      "  norm_scale: '1.00e-09'\n",
      "  norm_value: '0.46'\n",
      "gal_diffuse_source:\n",
      "  Flux_error: '1.71e-06'\n",
      "  Flux_value: '9.88e-06'\n",
      "  Index_value: '0.00'\n",
      "  Normalization_scale: '1.00e+00'\n",
      "  Normalization_value: '1.00'\n",
      "  Npred: '266.70'\n",
      "  Prefactor_error: '0.19'\n",
      "  Prefactor_scale: '1.00e+00'\n",
      "  Prefactor_value: '1.11'\n",
      "  Scale_value: '100.00'\n",
      "  TsValue: 34.01851648122647\n",
      "iso_diffuse_source:\n",
      "  Flux_error: '6.19e-06'\n",
      "  Flux_value: '1.03e-05'\n",
      "  Index_value: '-2.40'\n",
      "  Integral_error: '4.92'\n",
      "  Integral_scale: '1.00e-07'\n",
      "  Integral_value: '8.21'\n",
      "  LowerLimit_value: '3000.00'\n",
      "  Npred: '72.91'\n",
      "  TsValue: 3.0762767263804562\n",
      "  UpperLimit_value: '300000.00'\n",
      "  Value_scale: '1.00e+00'\n",
      "  Value_value: '1.00'\n"
     ]
    }
   ],
   "source": [
    "%%bash\n",
    "#check the results\n",
    "cat analysis2/Vela_results_BroadBand_binned.yaml"
   ]
  },
  {
   "cell_type": "code",
   "execution_count": 26,
   "id": "1b608db8-baed-4661-8c8c-4bd375bac074",
   "metadata": {},
   "outputs": [
    {
     "data": {
      "text/plain": [
       "(3e-06, 0.002)"
      ]
     },
     "execution_count": 26,
     "metadata": {},
     "output_type": "execute_result"
    },
    {
     "data": {
      "image/png": "[encoded data removed]",
      "text/plain": [
       "<Figure size 640x480 with 1 Axes>"
      ]
     },
     "metadata": {},
     "output_type": "display_data"
    }
   ],
   "source": [
    "plotsed_simple('analysis2/Vela_BroadBand_Spectrum.dat', 'analysis2/Vela_flux_SED_binned.dat')\n",
    "plt.ylim(3e-6,2e-3)"
   ]
  },
  {
   "cell_type": "markdown",
   "id": "7b59e2fe-e8d4-4e6e-97a8-a99aba7079d3",
   "metadata": {},
   "source": [
    "*The fitting is significantly improved.*"
   ]
  },
  {
   "cell_type": "markdown",
   "id": "36fb1e99-0e5f-4562-b94a-b23f1da019e9",
   "metadata": {},
   "source": [
    "#### 2. improve the spatial model\n",
    "\n",
    "You may be also interested in the morphology of the source. Here Vela is a **point source**, so\n",
    "```yaml\n",
    "  type: PointSource\n",
    "  spatialModel:\n",
    "    type: SkyDirFunction\n",
    "    RA:  {free: 0, max: 360.0,min: -360.0, name: RA,  scale: 1.0, value: 128.84}\n",
    "    DEC: {free: 0, max: 90.0, min: -90.0,  name: DEC, scale: 1.0, value: -45.18}\n",
    "```\n",
    "\n",
    "For some sources, the morphologies can be extended. We have the following choices for the extended sources:\n",
    "- 2D disk:\n",
    "  ```yaml\n",
    "  type: DiffuseSource\n",
    "  spatialModel:\n",
    "    type: RadialDisk\n",
    "    RA:  {free: 0, max: 360.0,min: -360.0, name: RA,  scale: 1.0, value: 345.494}\n",
    "    DEC: {free: 0, max: 90.0, min: -90.0,  name: DEC, scale: 1.0, value: 58.92}\n",
    "    Radius: {free: 0, max: 10, min: 0,  name: Radius, scale: 1.0, value: 0.249}\n",
    "  ```\n",
    "- 2D gaussian:\n",
    "  ```yaml\n",
    "  type: DiffuseSource\n",
    "  spatialModel:\n",
    "    type: RadialGaussian\n",
    "    RA:  {free: 0, max: 360.0,min: -360.0, name: RA,  scale: 1.0, value: 225.254}\n",
    "    DEC: {free: 0, max: 90.0, min: -90.0,  name: DEC, scale: 1.0, value: -63.179}\n",
    "    Sigma: {free: 0, max: 10, min: 0,  name: Sigma, scale: 1.0, value: 0.853}\n",
    "  ```\n",
    "- or even a map:\n",
    "  ```yaml\n",
    "  type: DiffuseSource\n",
    "  spatialModel:\n",
    "    type: SpatialMap\n",
    "    file: \"xxx.fits\"\n",
    "    Prefactor: {free: 0, max: 10.0, min: 0.0, name: Prefactor, scale: 1.0, value: 1.0}\n",
    "  ```"
   ]
  },
  {
   "cell_type": "markdown",
   "id": "9815e036-9acd-4229-8fee-33ff0da4462b",
   "metadata": {},
   "source": [
    "# homework 1: The light curve of Vela\n",
    "\n",
    "# homework 2: Report of the status in the space science or astronomy in your country\n",
    "\n",
    "- Q&A time: 2024-07-25\n",
    "\n",
    "- deadline: 2024-08-15\n",
    "\n",
    "- website: https://apsco.casmooc.cn"
   ]
  },
  {
   "cell_type": "code",
   "execution_count": null,
   "id": "9a97d512-c641-46a3-90ac-bbff2ae40c25",
   "metadata": {},
   "outputs": [],
   "source": []
  }
 ],
 "metadata": {
  "kernelspec": {
   "display_name": "Python 3 (ipykernel)",
   "language": "python",
   "name": "python3"
  },
  "language_info": {
   "codemirror_mode": {
    "name": "ipython",
    "version": 3
   },
   "file_extension": ".py",
   "mimetype": "text/x-python",
   "name": "python",
   "nbconvert_exporter": "python",
   "pygments_lexer": "ipython3",
   "version": "3.9.10"
  }
 },
 "nbformat": 4,
 "nbformat_minor": 5
}
